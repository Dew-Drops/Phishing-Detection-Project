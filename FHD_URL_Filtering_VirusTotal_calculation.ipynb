{
  "cells": [
    {
      "cell_type": "code",
      "execution_count": null,
      "metadata": {
        "id": "dJuXPABJ87EV"
      },
      "outputs": [],
      "source": [
        "!pip install tldextract\n",
        "!pip install requests"
      ]
    },
    {
      "cell_type": "markdown",
      "source": [
        "##**Filtering out Free web hosting doman based URLs from URL Collections**"
      ],
      "metadata": {
        "id": "NoKnGFZCMpIE"
      }
    },
    {
      "cell_type": "markdown",
      "source": [],
      "metadata": {
        "id": "ReCD78OlMnpX"
      }
    },
    {
      "cell_type": "code",
      "execution_count": null,
      "metadata": {
        "id": "6dmjHJGfloBI"
      },
      "outputs": [],
      "source": [
        "fhd=['Weebly','DuckDNS','000webhost','Blogspot','Wix','GoogleSites','Github','Firebase','Squareup',\n",
        "     'ZohoForms','Wordpress','GoogleForms','Sharepoint','Yolasite','MyFTP','GoDaddysites','Mailchimp',\n",
        "     'Atwebpages','glitch','Webnode','Herokuapp','website','Netlify','hPage','InfinityFree',\n",
        "     'ByetHost','HyperPHP','AwardSpace','Freehostia','FreeHosting','FreeWebHostingArea','HostPapa','Ultahost',\n",
        "     'Porkbun','Bluehost','GoogieHost','x10hosting','Freehosting','Freehostia','SiteGround','DreamHost',\n",
        "     'HostGator','WordPress','DomainRacer','FreeHostingNoAds','FreeWebHostingArea','Namecheap',\n",
        "     'InMotionHosting','A2Hosting','interserver']\n",
        "for i in range(len(fhd)):\n",
        "    fhd[i]=fhd[i].lower()"
      ]
    },
    {
      "cell_type": "code",
      "execution_count": null,
      "metadata": {
        "id": "qzPSHupHqvHH"
      },
      "outputs": [],
      "source": [
        "fhd=set(fhd)\n",
        "import requests\n",
        "import pandas as pd\n",
        "import numpy as np\n",
        "import tldextract\n",
        "import csv\n",
        "d={}\n",
        "for item in fhd:\n",
        "    d[item]=0 \n",
        "print(d)\n",
        "web=pd.read_csv(\"/content/sample_data/top-1m.csv\")\n",
        "web=list(set(web[\"Domain\"].copy()))\n",
        "count=1 \n",
        "for item in web:\n",
        "    print(count,end=\" \")\n",
        "    count+=1 \n",
        "    item='https://'+item.strip()\n",
        "    result=tldextract.extract(item)\n",
        "    weblink=result.subdomain+'.'+result.domain+'.'+result.suffix\n",
        "    for x in fhd:\n",
        "        if x in weblink:\n",
        "            d[x]+=1 \n",
        "            break "
      ]
    },
    {
      "cell_type": "markdown",
      "source": [
        "##**Code for calculating virus total points for given URLs**"
      ],
      "metadata": {
        "id": "rcbq_pWrNGHz"
      }
    },
    {
      "cell_type": "code",
      "execution_count": null,
      "metadata": {
        "id": "zWL3EgE-VIl0"
      },
      "outputs": [],
      "source": [
        "phish_list=pd.read_csv(\"/content/sample_data/general_phishiing_url_105.csv\")\n",
        "phish_list=phish_list[\"url\"].copy()\n",
        "res=[]"
      ]
    },
    {
      "cell_type": "code",
      "execution_count": null,
      "metadata": {
        "colab": {
          "background_save": true
        },
        "id": "cT4Bu-pyodLY"
      },
      "outputs": [],
      "source": [
        "API_key ='920acbeb0901c5e8731f0e000f6c94b9e7c3c9b34553d6da3475ad13abd98d1a'\n",
        "url = 'https://www.virustotal.com/vtapi/v2/url/report'\n",
        "count=1\n",
        "for i in phish_list:\n",
        "    print(count,end=\" \")\n",
        "    count+=1 \n",
        "    parameters = {'apikey': API_key, 'resource': i}\n",
        "    try:\n",
        "        response= requests.get(url=url, params=parameters,timeout=5)\n",
        "        if response.status_code==200:\n",
        "            json_response= json.loads(response.text)\n",
        "            # print(json_response)\n",
        "            if json_response['response_code']==1:\n",
        "                res.append([i,json_response['positives']])\n",
        "            else:\n",
        "                res.append[i,90]\n",
        "        else:\n",
        "            res.append([i,90])\n",
        "        time.sleep(16)\n",
        "    except:\n",
        "        res.append([i,900])"
      ]
    },
    {
      "cell_type": "markdown",
      "source": [
        "##**Code for writing content in CSV files from LIST**"
      ],
      "metadata": {
        "id": "plQ9-_R0NRpi"
      }
    },
    {
      "cell_type": "code",
      "execution_count": null,
      "metadata": {
        "id": "kVKxn0_bojSF"
      },
      "outputs": [],
      "source": [
        "import csv\n",
        "fields = ['url']\n",
        "rows = res\n",
        "with open('/content/sample_data/blank.csv', 'w') as f:\n",
        "    csv_writer = csv.writer(f)\n",
        "    csv_writer.writerow(fields)\n",
        "    csv_writer.writerows(rows)"
      ]
    }
  ],
  "metadata": {
    "colab": {
      "provenance": []
    },
    "gpuClass": "standard",
    "kernelspec": {
      "display_name": "Python 3",
      "name": "python3"
    },
    "language_info": {
      "name": "python"
    }
  },
  "nbformat": 4,
  "nbformat_minor": 0
}